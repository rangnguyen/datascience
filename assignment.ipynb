{
 "cells": [
  {
   "cell_type": "markdown",
   "metadata": {},
   "source": [
    "<h1>My Jupyter Notebook on IBM Watson Studio</h1>"
   ]
  },
  {
   "cell_type": "markdown",
   "metadata": {},
   "source": [
    "<b>Rang Nguyen </b> <br>\n",
    "Research Scientist"
   ]
  },
  {
   "cell_type": "markdown",
   "metadata": {},
   "source": [
    "<i>I'm interested in data science because it allows people to gain insight into data and then do a variety of things with it.</i>"
   ]
  },
  {
   "cell_type": "markdown",
   "metadata": {},
   "source": [
    "<h3>The following code will display \"Hello\" message. </h3>"
   ]
  },
  {
   "cell_type": "code",
   "execution_count": null,
   "metadata": {},
   "outputs": [],
   "source": [
    "print(\"Hello\")"
   ]
  },
  {
   "cell_type": "markdown",
   "metadata": {},
   "source": [
    "Write a Python function to return the number of days in the given month of a non-leap year. This function should be followed the following rules:\n",
    "<ul>\n",
    "<li> It returns 31 if the given month is either 1, 3, 5, 7, 8, 10 or 12.\n",
    "<li> It returns 30 if the given month is either 4, 6, 9, 11.\n",
    "<li> It returns 28 if the given month is 2.\n",
    "</ul>\n",
    "You can refer to <a href=https://www.englishclub.com/vocabulary/time-months-of-year.htm>this webpage</a> for more detail. \n",
    "\n",
    "You can use the following code for the starting point. \n",
    "```python\n",
    "def returnDayInMonth(month):\n",
    "    pass\n",
    "```\n",
    "\n"
   ]
  }
 ],
 "metadata": {
  "language_info": {
   "name": "python"
  },
  "orig_nbformat": 4
 },
 "nbformat": 4,
 "nbformat_minor": 2
}
